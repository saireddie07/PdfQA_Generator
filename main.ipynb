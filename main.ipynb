{
 "cells": [
  {
   "cell_type": "code",
   "execution_count": 55,
   "id": "5c02d980-f036-4955-9665-cfaaf3d8dca8",
   "metadata": {},
   "outputs": [],
   "source": [
    "from PyPDF2 import PdfReader\n",
    "pdf=PdfReader('BigMacIndex.pdf') #loading pdf file "
   ]
  },
  {
   "cell_type": "code",
   "execution_count": 56,
   "id": "f08d2efc-85bb-474c-9fab-fd369bf15cd3",
   "metadata": {},
   "outputs": [],
   "source": [
    "text=\"\"\n",
    "for page in pdf.pages:\n",
    "    text+=page.extract_text() #extracting text from all the pages and storing it in a single variable\n",
    "    "
   ]
  },
  {
   "cell_type": "code",
   "execution_count": 57,
   "id": "7f3716aa-bbd8-4fc3-83d1-8c1358993211",
   "metadata": {},
   "outputs": [
    {
     "data": {
      "text/plain": [
       "'Big\\nMac\\nIndex\\nThe\\nBig\\nMac\\nIndex\\nis\\na\\nprice\\nindex\\npublished\\nsince\\n1986\\nby\\nThe\\nEconomist\\nas\\nan\\ninformal\\nway\\nof\\nmeasuring\\nthe\\npurchasing\\npower\\nparity\\n(PPP)\\nbetween\\ntwo\\ncurrencies\\nand\\nproviding\\na\\ntest\\nof\\nthe\\nextent\\nto\\nwhich\\nmarket\\nexchange\\nrates\\nresult\\nin\\ngoods\\ncosting\\nthe\\nsame\\nin\\ndifferent\\ncountries.\\nIt\\n\"seeks\\nto\\nmake\\nexchange-rate\\ntheory\\na\\nbit\\nmore\\ndigestible.\"\\nThe\\nindex\\ncompares\\nthe\\nrelative\\nprice\\nworldwide\\nto\\npurchase\\nthe\\nBig\\nMac,\\na\\nhamburger\\nsold\\nat\\nMcDonald\\'s\\nrestaurants.\\nOverview\\nThe\\nBig\\nMac\\nindex\\nwas\\nintroduced\\nin\\nThe\\nEconomist\\nin\\nSeptember\\n1986\\nby\\nPam\\nWoodall\\nas\\na\\nsemi-humorous\\nillustration\\nof\\nPPP\\nand\\nhas\\nbeen\\npublished\\nby\\nthat\\npaper\\nannually\\nsince\\nthen.\\nAlthough\\nthe\\nBig\\nMac\\nIndex\\nwas\\nnot\\nintended\\nto\\nbe\\na\\nlegitimate\\ntool\\nfor\\nexchange\\nrate\\nevaluation,\\nit\\nis\\nnow\\nglobally\\nrecognised\\nand\\nfeatured\\nin\\nmany\\nacademic\\ntextbooks\\nand\\nreports.\\nThe\\nindex\\nalso\\ngave\\nrise\\nto\\nthe\\nword\\nburgernomics.\\nThe\\ntheory\\nunderpinning\\nthe\\nBig\\nMac\\nindex\\nstems\\nfrom\\nthe\\nconcept\\nof\\nPPP,\\nwhich\\nstates\\nthat\\nthe\\nexchange\\nrate\\nbetween\\ntwo\\ncurrencies\\nshould\\nequalize\\nthe\\nprices\\ncharged\\nfor\\nan\\nidentical\\nbasket\\nof\\ngoods.\\nHowever,\\nin\\nreality,\\nsourcing\\nan\\nidentical\\nbasket\\nof\\ngoods\\nin\\nevery\\ncountry\\nprovides\\na\\ncomplex\\nchallenge.\\nAccording\\nto\\nthe\\nOrganisation\\nfor\\nEconomic\\nCo-operation\\nand\\nDevelopment\\n(OECD),\\nover\\n\"3,000\\nconsumer\\ngoods\\nand\\nservices,\\n30\\noccupations\\nin\\ngovernment,\\n200\\ntypes\\nof\\nequipment\\ngoods\\nand\\nabout\\n15\\nconstruction\\nprojects\"\\nare\\nincluded\\nin\\nthe\\ncurrent\\nPPP\\ncalculations.\\nIn\\nan\\neffort\\nto\\nsimplify\\nthis\\nimportant\\neconomic\\nconcept,\\nThe\\nEconomist\\nproposed\\nthat\\na\\nsingle\\nMcDonald’s\\nBig\\nMac\\ncould\\nbe\\nused\\ninstead\\nof\\na\\nbasket\\nof\\ngoods.\\nA\\nMcDonald’s\\nBig\\nMac\\nwas\\nchosen\\nbecause\\nof\\nthe\\nprevalence\\nof\\nthe\\nfast\\nfood\\nchain\\nworldwide,\\nand\\nbecause\\nthe\\nsandwich\\nremains\\nlargely\\nthe\\nsame\\nacross\\nall\\ncountries.Although\\na\\nsingle\\nsandwich\\nmay\\nseem\\noverly\\nsimplistic\\nfor\\nPPP\\ntheory,\\nthe\\nprice\\nof\\na\\nBig\\nMac\\nis\\nderived\\nfrom\\nthe\\nculmination\\nof\\n\"many\\nlocal\\neconomic\\nfactors,\\nsuch\\nas\\nthe\\nprice\\nof\\nthe\\ningredients,\\nlocal\\nwages,\\nor\\nhow\\nmuch\\nit\\ncosts\\nto\\nput\\nup\\nbillboards\\nand\\nbuy\\nTV\\nads\".\\nAs\\na\\nresult,\\nthe\\nBig\\nMac\\nindex\\nprovides\\na\\n\"reasonable\\nmeasure\\nof\\nreal-world\\npurchasing\\npower\".\\nThe\\npurpose\\nof\\nthe\\nBig\\nMac\\nindex\\nis\\nto\\ncalculate\\nan\\nimplied\\nexchange\\nrate\\nbetween\\ntwo\\ncurrencies.\\nIn\\norder\\nto\\ncalculate\\nthe\\nBig\\nMac\\nindex,\\nthe\\nprice\\nof\\na\\nBig\\nMac\\nin\\na\\nforeign\\ncountry\\n(in\\nthe\\nforeign\\ncountry’s\\ncurrency)\\nis\\ndivided\\nby\\nthe\\nprice\\nof\\na\\nBig\\nMac\\nin\\na\\nbase\\ncountry\\n(in\\nthe\\nbase\\ncountry’s\\ncurrency).\\nTypically,\\nthe\\nbase\\ncountry\\nused\\nis\\nthe\\nUnited\\nStates.\\nFor\\nexample,\\nusing\\nfigures\\nfrom\\nJuly\\n2023\\nIn\\nSwitzerland,\\na\\nBig\\nMac\\ncosts\\n6.70\\nSwiss\\nfranc.\\nIn\\nthe\\nUS,\\na\\nBig\\nMac\\ncosts\\n$5.58\\nUSD.\\nThe\\nimplied\\nexchange\\nrate\\nis\\n1.20\\nSFr/USD,\\nthat\\nis\\n6.70SFr/$5.58USD\\n=\\n1.20.\\nConsistent\\nwith\\nPPP\\neconomic\\ntheory,\\nthe\\nBig\\nMac\\nindex\\nalso\\nprovides\\na\\nmethod\\nto\\nanalyse\\na\\ncurrency’s\\nlevel\\nof\\nunder/over-valuation\\nagainst\\na\\nbase\\ncurrency.[9]\\nIn\\norder\\nto\\ncalculate\\nwhethera\\ncurrency\\nis\\nunder/over-valued,\\nthe\\nimplied\\nexchange\\nrate\\n(as\\ndefined\\nby\\nthe\\nBig\\nMac\\nindex)\\nmust\\nbe\\ncompared\\nto\\nthe\\nactual\\nexchange\\nrate.\\nIf\\nthe\\nimplied\\nexchange\\nrate\\nis\\ngreater\\nthan\\nthe\\nactual\\nexchange\\nrate,\\nthen\\nthe\\nanalysed\\ncurrency\\nis\\novervalued\\nagainst\\nthe\\nbase\\ncurrency.\\nIf\\nthe\\nimplied\\nexchange\\nrate\\nis\\nless\\nthan\\nthe\\nactual\\nexchange\\nrate,\\nthen\\nthe\\nanalysed\\ncurrency\\nis\\nundervalued\\nagainst\\nthe\\nbase\\ncurrency.\\nFor\\nexample,\\nusing\\nfigures\\nfor\\nJuly\\n2023:\\nThe\\nimplied\\nexchange\\nrate\\naccording\\nto\\nthe\\nBig\\nMac\\nindex\\nis\\n1.20\\nSFr/USD\\nThe\\nactual\\nexchange\\nrate\\nis\\n0.87\\nSFr/USD\\nThe\\nSwiss\\nfranc\\nis\\novervalued\\nby\\n38.5%\\nagainst\\nthe\\nUS\\ndollar,\\nthat\\nis\\n(1.20-0.87)/0.87\\n=\\n38.5%\\nVariants\\nThe\\nEconomist\\nsometimes\\nproduces\\nvariants\\non\\nthe\\ntheme.\\nFor\\nexample,\\nin\\nJanuary\\n2004,\\nit\\nshowed\\na\\nTall\\nLatte\\nindex\\nwith\\nthe\\nBig\\nMac\\nreplaced\\nby\\na\\ncup\\nof\\nStarbucks\\ncoffee.\\nIn\\n2007,\\nan\\nAustralian\\nbank\\ntried\\na\\nvariation\\nthe\\nBig\\nMac\\nindex,\\nbeing\\nan\\n\"iPod\\nindex\":\\nsince\\nthe\\niPod\\nis\\nmanufactured\\nat\\na\\nsingle\\nplace,\\nthe\\nvalue\\nof\\niPods\\nshould\\nbe\\nmore\\nconsistent\\nglobally.\\nHowever,\\nthis\\ntheory\\ncan\\nbe\\ncriticised\\nfor\\nignoring\\nshipping\\ncosts,\\nwhich\\nwill\\nvary\\ndepending\\non\\nhow\\nfar\\nthe\\nproduct\\nis\\ndelivered\\nfrom\\nits\\n\"single\\nplace\"\\nof\\nmanufacture\\nin\\nChina.\\nBloomberg\\nL.P.\\nintroduced\\nthe\\nBilly\\nindex\\nwhere\\nthey\\nconvert\\nlocal\\nprices\\nof\\nIKEA\\'s\\nBilly\\nbookshelf\\ninto\\nUS\\ndollars\\nand\\ncompare\\nthe\\nprices.\\nGold-Mac-Index:\\nThe\\nvalue\\nof\\nthe\\npurchasing\\npower\\nfor\\n1\\ng\\nof\\ngold\\n(\\ncalculation\\nof\\nthe\\ngold\\nprice\\naverage\\nof\\nthe\\ncorresponding\\nyear),\\nhow\\nmany\\nburgers\\none\\ngot\\nfor\\n1\\ng\\ngold.\\nA\\nSwiss\\nbank\\nhas\\nexpanded\\nthe\\nidea\\nof\\nthe\\nBig\\nMac\\nindex\\nto\\ninclude\\nthe\\namount\\nof\\ntime\\nthat\\nan\\naverage\\nlocal\\nworker\\nin\\na\\ngiven\\ncountry\\nmust\\nwork\\nto\\nearn\\nenough\\nto\\nbuy\\na\\nBig\\nMac.\\nIn\\n2017,\\nthe\\ncomparison\\nplatform\\nVersus\\ndid\\na\\nversion\\ncalled\\nThe\\nChai\\nLatte\\nGlobal\\nIndex,\\ncomparing\\nStarbucks\\nChai\\nLatte\\nprices\\nworldwide,\\nby\\nfirst\\nconverting\\nthe\\nlocal\\nprices\\ninto\\nUSD.\\nGlobal\\npersonal\\nfinance\\ncomparison\\nwebsite,\\nFinder.com,\\nreleased\\na\\nmore\\ncomprehensive\\nStarbucks\\nIndex\\nin\\n2019,\\nwhich\\nanalyzed\\ncoffee\\nprices\\nfor\\na\\ntall\\nlatte\\nin\\n76\\ncountries\\nand\\nautonomous\\nregions\\naround\\nthe\\nworld.\\nThe\\nreport\\nincluded\\na\\nLatte\\nLine,\\nwhich\\nmeasured\\nthe\\ncorrelation\\nbetween\\nthe\\nprice\\nof\\ncoffee\\nand\\na\\ncountry\\'s\\nGDP.\\nIn\\n2022,\\nTrusaic,\\na\\nprovider\\nof\\nequal\\npay\\ncompliance\\nsoftware,\\nunveiled\\na\\nnew\\nonline\\ntool\\ncalled\\nThe\\nBig\\nMac\\nPay\\nGap\\nIndex,\\nwhich\\nshows\\nhow\\nmuch\\nmore\\na\\nBig\\nMac\\nwould\\ncost\\nyou,\\nafter\\nadjusting\\nthe\\nmenu\\nprice\\nof\\na\\nBig\\nMac\\nto\\nreflect\\nwhatever\\npay\\ngap\\nyou\\nmay\\nface.\\nLimitations\\nWhile\\neconomists\\nwidely\\ncite\\nthe\\nBig\\nMac\\nindex\\nas\\na\\nreasonable\\nreal-world\\nmeasurement\\nof\\npurchasing\\npower\\nparity,\\nthe\\nburger\\nmethodology\\nhas\\nsome\\nlimitations.Map\\nof\\ncountries\\nwith\\nat\\nleast\\none\\nMcDonald\\'s\\nrestaurant,\\nshowing\\nthe\\nlack\\nof\\nrestaurants\\nin\\nAfrica\\n(2022)\\nThe\\nBig\\nMac\\nIndex\\nis\\nlimited\\nby\\ngeographical\\ncoverage,\\ndue\\nto\\nthe\\npresence\\nof\\nthe\\nMcDonald\\'s\\nfranchise.\\nFor\\nexample,\\nin\\nAfrica\\nMcDonald\\'s\\nis\\nonly\\npresent\\nin\\nMorocco,\\nEgypt,\\nSouth\\nAfrica\\nand\\nMauritius\\n(there\\nhas\\nbeen\\na\\nsimilar\\nindex\\ncreated\\nsolely\\nfor\\nAfrica\\ncalled\\nthe\\n\"KFC\\nIndex\":\\nas\\nthe\\nname\\nsuggests,\\ninstead\\nof\\nusing\\na\\nBig\\nMac,\\nthis\\nindex\\nuses\\nKFC\\'s\\nOriginal\\n15\\npc.\\nbucket\\nto\\ncompile\\nits\\ndata).\\nIn\\nmany\\ncountries,\\neating\\nat\\ninternational\\nfast-food\\nchain\\nrestaurants\\nsuch\\nas\\nMcDonald\\'s\\nis\\nrelatively\\nexpensive\\nin\\ncomparison\\nto\\neating\\nat\\na\\nlocal\\nrestaurant,\\nand\\nthe\\ndemand\\nfor\\nBig\\nMacs\\nis\\nnot\\nas\\nlarge\\nin\\ncountries\\nsuch\\nas\\nIndia\\nas\\nin\\nthe\\nUnited\\nStates.\\nSocial\\nstatus\\nof\\neating\\nat\\nfast\\nfood\\nrestaurants\\nsuch\\nas\\nMcDonald\\'s\\nin\\na\\nlocal\\nmarket,\\nwhat\\nproportion\\nof\\nsales\\nmight\\nbe\\nto\\nexpatriates,\\nlocal\\ntaxes,\\nlevels\\nof\\ncompetition,\\nand\\nimport\\nduties\\non\\nselected\\nitems\\nmay\\nnot\\nbe\\nrepresentative\\nof\\nthe\\ncountry\\'s\\neconomy\\nas\\na\\nwhole.\\nIn\\naddition,\\nthere\\nis\\nno\\ntheoretical\\nreason\\nwhy\\nnon-tradable\\ngoods\\nand\\nservices\\nsuch\\nas\\nproperty\\ncosts\\nshould\\nbe\\nequal\\nin\\ndifferent\\ncountries:\\nthis\\nis\\nthe\\ntheoretical\\nreason\\nfor\\nPPPs\\nbeing\\ndifferent\\nfrom\\nmarket\\nexchange\\nrates\\nover\\ntime.\\nThe\\nrelative\\ncost\\nof\\nhigh-margin\\nproducts,\\nsuch\\nas\\nessential\\npharmaceutical\\nproducts,\\nor\\ncellular\\ntelephony\\nmight\\ncompare\\nlocal\\ncapacity\\nand\\nwillingness\\nto\\npay,\\nas\\nmuch\\nas\\nrelative\\ncurrency\\nvalues.\\nNevertheless,\\nMcDonald\\'s\\nis\\nalso\\nusing\\ndifferent\\ncommercial\\nstrategies\\nwhich\\ncan\\nresult\\nin\\nhuge\\ndifferences\\nfor\\na\\nproduct.\\nOverall,\\nthe\\nprice\\nof\\na\\nBig\\nMac\\nwill\\nbe\\na\\nreflection\\nof\\nits\\nlocal\\nproduction\\nand\\ndelivery\\ncost,\\nthe\\ncost\\nof\\nadvertising\\n(considerable\\nin\\nsome\\nareas),\\nand\\nmost\\nimportantly\\nwhat\\nthe\\nlocal\\nmarket\\nwill\\nbear\\n–\\nquite\\ndifferent\\nfrom\\ncountry\\nto\\ncountry,\\nand\\nnot\\nall\\na\\nreflection\\nof\\nrelative\\ncurrency\\nvalues.\\nIn\\nsome\\nmarkets,\\na\\nhigh-volume\\nand\\nlow-margin\\napproach\\nmakes\\nmost\\nsense\\nto\\nmaximize\\nprofit,\\nwhile\\nin\\nothers\\na\\nhigher\\nmargin\\nwill\\ngenerate\\nmore\\nprofit.\\nThus\\nthe\\nrelative\\nprices\\nreflect\\nmore\\nthan\\ncurrency\\nvalues.\\nFor\\nexample,\\na\\nhamburger\\ncosts\\nonly\\n€1\\nin\\nFrance,\\nand\\n€1.50\\nin\\nBelgium,\\nbut\\noverall,\\nMcDonald\\'s\\nrestaurants\\nin\\nboth\\ncountries\\ncost\\nroughly\\nthe\\nsame.\\nPrices\\nof\\nBig\\nMacs\\ncan\\nalso\\nvary\\ngreatly\\nbetween\\ndifferent\\nareas\\nwithin\\na\\ncountry.\\nFor\\nexample,\\na\\nBig\\nMac\\nsold\\nin\\nNew\\nYork\\nCity\\nwill\\nbe\\nmore\\nexpensive\\nthan\\none\\nsold\\nat\\na\\nMcDonald\\'s\\nlocated\\nin\\na\\nrural\\narea.\\nOne\\nother\\nexample\\nis\\nthat\\nRussia\\nhad\\none\\nof\\nthe\\ncheapest\\nBig\\nMacs\\nat\\nits\\ntime\\nin\\n2019,\\ndespite\\nthe\\nfact\\nthat\\nMoscow\\nwas\\nthen\\nthe\\nmost\\nexpensive\\ncity\\nin\\nthe\\nworld.\\nStandard\\nfood\\ningredients\\nare\\ncheap\\nin\\nRussia,\\nwhile\\nrestaurants\\nsuitable\\nfor\\nbusiness\\ndinners\\nwith\\nEnglish\\nspeaking\\nstaff\\nare\\nexpensive.\\nManipulationCritics\\nof\\nthe\\npresidency\\nof\\nCristina\\nFernández\\nde\\nKirchner\\nin\\nArgentina\\nand\\nmany\\neconomists\\nbelieve\\nthat\\nthe\\ngovernment\\nhas\\nfor\\nyears\\nfalsified\\nconsumer\\nprice\\ndata\\nto\\nunderstate\\nthe\\ncountry\\'s\\ntrue\\ninflation\\nrate.\\nThe\\nEconomist\\nstated\\nin\\nJanuary\\n2011\\nthat\\nBig\\nMac\\nindex\\n\"does\\nsupport\\nclaims\\nthat\\nArgentina\\'s\\ngovernment\\nis\\ncooking\\nthe\\nbooks.\\nThe\\ngap\\nbetween\\nits\\naverage\\nannual\\nrate\\nof\\nburger\\ninflation\\n(19%)\\nand\\nits\\nofficial\\nrate\\n(10%)\\nis\\nfar\\nbigger\\nthan\\nin\\nany\\nother\\ncountry.\"\\nThat\\nyear\\nthe\\npress\\nbegan\\nreporting\\non\\nunusual\\nbehavior\\nby\\nthe\\nmore\\nthan\\n200\\nArgentinean\\nMcDonald\\'s\\nrestaurants.\\nThey\\nno\\nlonger\\nprominently\\nadvertised\\nBig\\nMacs\\nfor\\nsale\\nand\\nthe\\nsandwich,\\nboth\\nindividually\\nand\\nas\\npart\\nof\\nvalue\\nmeals,\\nwas\\nbeing\\nsold\\nfor\\nan\\nunusually\\nlow\\nprice\\ncompared\\nto\\nother\\nitems.\\nGuillermo\\nMoreno,\\nSecretary\\nof\\nCommerce\\nin\\nthe\\nKirchner\\ngovernment,\\nreportedly\\nforced\\nMcDonald\\'s\\nto\\nsell\\nthe\\nBig\\nMac\\nat\\nan\\nartificially\\nlow\\nprice\\nto\\nmanipulate\\nthe\\ncountry\\'s\\nperformance\\non\\nthe\\nBig\\nMac\\nindex.\\nIn\\nJune\\n2012,\\nthe\\nprice\\nof\\nthe\\nBig\\nMac\\nvalue\\nmeal\\nsuddenly\\nrose\\nby\\n26%,\\ncloser\\nto\\nthat\\nof\\nother\\nmeals,\\nafter\\nThe\\nEconomist,\\nThe\\nNew\\nYork\\nTimes,\\nand\\nother\\nmedia\\nreported\\non\\nthe\\nunusual\\npricing.\\nA\\nBuenos\\nAires\\nnewspaper\\nstated\\n\"Moreno\\nloses\\nthe\\nbattle\".\\nComparison\\nissues\\nThe\\nBig\\nMac\\n(and\\nvirtually\\nall\\nsandwiches)\\nvary\\nfrom\\ncountry\\nto\\ncountry\\nwith\\ndiffering\\nnutritional\\nvalues,\\nweights\\nand\\neven\\nnominal\\nsize\\ndifferences.\\nNot\\nall\\nBig\\nMac\\nburgers\\noffered\\nby\\nthe\\nchain\\nare\\nexclusively\\nbeef.\\nIn\\nIndia\\n–\\nwhich\\nis\\na\\npredominantly\\nHindu\\ncountry\\n–\\nbeef\\nburgers\\nare\\nnot\\navailable\\nat\\nany\\nMcDonald\\'s\\noutlets.\\nThe\\nChicken\\nMaharaja\\nMac\\nserves\\nas\\na\\nsubstitute\\nfor\\nthe\\nBig\\nMac.\\nThere\\nis\\na\\nlot\\nof\\nvariance\\nwith\\nthe\\nexclusively\\nbeef\\n\"Big\\nMac\":\\nthe\\nAustralian\\nversion\\nof\\nthe\\nBig\\nMac\\nhas\\n22%\\nfewer\\ncalories\\nthan\\nthe\\nCanadian\\nversion,\\nand\\nis\\n8%\\nlighter\\nthan\\nthe\\nversion\\nsold\\nin\\nMexico.\\nOn\\n1\\nNovember\\n2009,\\nall\\nthree\\nof\\nthe\\nMcDonald\\'s\\nin\\nIceland\\nclosed,\\nprimarily\\ndue\\nto\\nthe\\nchain\\'s\\nhigh\\ncost\\nof\\nimporting\\nmost\\nof\\nthe\\nchain\\'s\\nmeat\\nand\\nvegetables,\\nby\\nMcDonald\\'s\\ndemands\\nand\\nstandards,\\nfrom\\nthe\\nEurozone.\\nAt\\nthe\\ntime,\\na\\nBig\\nMac\\nin\\nIceland\\ncost\\n650\\nkrona\\n($5.29),\\nand\\nthe\\n20%\\nprice\\nincrease\\nthat\\nwould\\nhave\\nbeen\\nneeded\\nto\\nstay\\nin\\nbusiness\\nwould\\nhave\\nincreased\\nthat\\ncost\\nto\\n780\\nkrona\\n($6.36).\\nFish\\nand\\nlamb\\nare\\nproduced\\nin\\nIceland,\\nwhile\\nbeef\\nis\\noften\\nimported\\n(but\\nalso\\nexported).\\nFigures\\nSix\\nmost\\nexpensive\\n(July\\n2023)\\nThis\\nstatistic\\nshows\\nthe\\nmost\\nexpensive\\nplaces\\nto\\nbuy\\na\\nBig\\nMac.\\nSwitzerland\\n–\\n$7.73\\n(6.70\\nCHF)\\nNorway\\n–\\n$6.92\\n(70\\nNOK)\\nUruguay\\n–\\n$6.86\\n(259\\nUYU)\\nArgentina\\n–\\n$5.99\\n(1,650\\nARS)\\nEU\\n–\\n$5.82\\n(5.28\\nEUR)\\nSweden\\n–\\n$5.74\\n(60.27\\nSEK)Six\\ncheapest\\n(July\\n2023)\\nThis\\nstatistic\\nshows\\nthe\\nleast\\nexpensive\\nplaces\\nto\\nbuy\\na\\nBig\\nMac.\\nTaiwan\\n–\\n$2.39\\n(75\\nTWD)\\nIndonesia\\n–\\n$2.52\\n(38,000\\nIDR)\\nIndia\\n–\\n$2.54\\n(209\\nINR)\\nEgypt\\n–\\n$2.62\\n(81.00\\nEGP)\\nSouth\\nAfrica\\n–\\n$2.81\\n(49.90\\nZAR)\\nPhilippines\\n–\\n$2.82\\n(155\\nPHP)\\nSix\\nfastest\\nearned\\n(July\\n2015)\\nThis\\nstatistic\\nshows\\nthe\\naverage\\nworking\\ntime\\nrequired\\nto\\nbuy\\none\\nBig\\nMac\\nin\\nselected\\ncities\\naround\\nthe\\nworld\\nin\\n2015.\\nHong\\nKong\\n–\\n8.6\\nmin\\nLuxembourg\\n–\\n10.3\\nmin\\nJapan,\\nTokyo\\n–\\n10.4\\nmin\\nSwitzerland,\\nZürich\\n–\\n10.6\\nmin\\nUnited\\nStates,\\nMiami\\n–\\n10.7\\nmin\\nSwitzerland,\\nGeneva\\n–\\n10.8\\nmin\\nSix\\nslowest\\nearned\\n(July\\n2015)\\nThis\\nstatistic\\nshows\\nthe\\naverage\\nworking\\ntime\\nrequired\\nto\\nbuy\\none\\nBig\\nMac\\nin\\nselected\\ncities\\naround\\nthe\\nworld\\nin\\n2015.\\nKenya,\\nNairobi\\n–\\n172.6\\nmin\\nPhilippines,\\nManila\\n–\\n87.5\\nmin\\nMexico,\\nMexico\\nCity\\n–\\n78.4\\nmin\\nIndonesia,\\nJakarta\\n–\\n66.7\\nmin\\nEgypt,\\nCairo\\n–\\n62.5\\nmin\\nUkraine,\\nKyiv\\n–\\n54.7\\nmin'"
      ]
     },
     "execution_count": 57,
     "metadata": {},
     "output_type": "execute_result"
    }
   ],
   "source": [
    "text"
   ]
  },
  {
   "cell_type": "code",
   "execution_count": 58,
   "id": "e01eae87-babb-4e3c-8a4a-e734f9007977",
   "metadata": {},
   "outputs": [],
   "source": [
    "from langchain.chains import LLMChain\n",
    "from langchain_google_genai import ChatGoogleGenerativeAI"
   ]
  },
  {
   "cell_type": "code",
   "execution_count": 59,
   "id": "1d8865c6-f393-4863-9c81-bbfd752df4bf",
   "metadata": {},
   "outputs": [],
   "source": [
    "prompt_template=\"\"\"Create questions and answers as detailed as possible from the provided context, make sure to provide questions such that the questions fall into three categories: True or False, Multiple Choice Questions (MCQs), and one-word answers.\n",
    "don't provide irrelevant question and answers\\n\n",
    "\n",
    "Context:\\n {context}?\\n\n",
    "\n",
    "Question and Answer: \n",
    "\"\"\"\n",
    "#giving a portion of our base query. Which is later fed into a LLM"
   ]
  },
  {
   "cell_type": "code",
   "execution_count": 60,
   "id": "a891091e-5295-47bc-b08e-f9be635dbced",
   "metadata": {},
   "outputs": [],
   "source": [
    "model = ChatGoogleGenerativeAI(model=\"gemini-pro\", temperature=0.3,google_api_key=\"\") #declaring LLM model"
   ]
  },
  {
   "cell_type": "code",
   "execution_count": 61,
   "id": "c678bd79-8369-44ca-a857-711ec62b1b5e",
   "metadata": {},
   "outputs": [],
   "source": [
    "from langchain.prompts import PromptTemplate\n",
    "prompt = PromptTemplate(template=prompt_template, input_variables=[\"context\"]) #setting prompt template"
   ]
  },
  {
   "cell_type": "code",
   "execution_count": 62,
   "id": "deeb1be7-273a-45fa-aeaf-c32d48af749b",
   "metadata": {},
   "outputs": [],
   "source": [
    "chain = LLMChain(llm=model,prompt=prompt) #declaring chain"
   ]
  },
  {
   "cell_type": "code",
   "execution_count": 63,
   "id": "5825b9cc-a193-4f9f-8b04-26bebbb5d57a",
   "metadata": {},
   "outputs": [],
   "source": [
    "response = chain({\"context\": text}, return_only_outputs=True) #storing the responses in response variable"
   ]
  },
  {
   "cell_type": "code",
   "execution_count": 64,
   "id": "29438047-b68b-4d24-a57e-1ab69f66d929",
   "metadata": {},
   "outputs": [
    {
     "data": {
      "text/plain": [
       "{'text': \"**True or False Questions:**\\n\\n1. The Big Mac Index is a measure of the purchasing power of a single Big Mac.\\n**True**\\n\\n2. The Big Mac Index is intended to be a legitimate tool for exchange rate evaluation.\\n**False**\\n\\n3. The Big Mac Index is based on the theory of purchasing power parity (PPP).\\n**True**\\n\\n4. The Big Mac Index is calculated by comparing the price of a Big Mac in a foreign country to the price of a Big Mac in the United States.\\n**True**\\n\\n5. The Big Mac Index can be used to analyze a currency's level of under/over-valuation against a base currency.\\n**True**\\n\\n**Multiple Choice Questions (MCQs):**\\n\\n1. Which of the following is NOT a limitation of the Big Mac Index?\\n   (a) Geographical coverage\\n   (b) Social status of eating at fast food restaurants\\n   (c) The theoretical reason for PPPs being different from market exchange rates\\n   (d) The price of a Big Mac reflecting local production and delivery costs\\n   **Answer: (d)**\\n\\n2. Which of the following countries had one of the cheapest Big Macs in 2019?\\n   (a) Switzerland\\n   (b) Norway\\n   (c) Russia\\n   (d) Argentina\\n   **Answer: (c)**\\n\\n3. Which of the following is a variant of the Big Mac Index that uses a cup of Starbucks coffee instead of a Big Mac?\\n   (a) Tall Latte Index\\n   (b) iPod Index\\n   (c) Billy Index\\n   (d) Gold-Mac-Index\\n   **Answer: (a)**\\n\\n4. Which of the following is NOT a criticism of the Big Mac Index?\\n   (a) It ignores shipping costs.\\n   (b) It is based on a single product.\\n   (c) It does not account for non-tradable goods and services.\\n   (d) It is not widely cited by economists.\\n   **Answer: (d)**\\n\\n5. Which of the following is a reason why the Big Mac Index may not be representative of a country's economy as a whole?\\n   (a) The proportion of sales to expatriates\\n   (b) Local taxes\\n   (c) Levels of competition\\n   (d) All of the above\\n   **Answer: (d)**\\n\\n**One-Word Answers:**\\n\\n1. What is the name of the organization that publishes the Big Mac Index?\\n**The Economist**\\n\\n2. What is the currency used as the base country in the Big Mac Index?\\n**US dollar**\\n\\n3. What is the name of the theory that underpins the Big Mac Index?\\n**PPP**\\n\\n4. What is the name of the sandwich that is used in the Big Mac Index?\\n**Big Mac**\\n\\n5. What is the name of the index that measures the amount of time that an average local worker must work to earn enough to buy a Big Mac?\\n**Big Mac Pay Gap Index**\"}"
      ]
     },
     "execution_count": 64,
     "metadata": {},
     "output_type": "execute_result"
    }
   ],
   "source": [
    "response"
   ]
  },
  {
   "cell_type": "code",
   "execution_count": 65,
   "id": "43493f4c-c5ca-4905-a67a-5d4830190e2e",
   "metadata": {},
   "outputs": [],
   "source": [
    "with open(\"generated_questions_and_answers2.txt\", \"w\") as file: #writing text file from responses\n",
    "    for question, answer in response.items():\n",
    "        file.write(f\"{question}\\nAnswer: {answer}\\n\\n\")  "
   ]
  }
 ],
 "metadata": {
  "kernelspec": {
   "display_name": "Python 3 (ipykernel)",
   "language": "python",
   "name": "python3"
  },
  "language_info": {
   "codemirror_mode": {
    "name": "ipython",
    "version": 3
   },
   "file_extension": ".py",
   "mimetype": "text/x-python",
   "name": "python",
   "nbconvert_exporter": "python",
   "pygments_lexer": "ipython3",
   "version": "3.11.7"
  }
 },
 "nbformat": 4,
 "nbformat_minor": 5
}
